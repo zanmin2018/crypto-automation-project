{
 "cells": [
  {
   "cell_type": "code",
   "execution_count": 0,
   "metadata": {
    "application/vnd.databricks.v1+cell": {
     "cellMetadata": {
      "byteLimit": 2048000,
      "rowLimit": 10000
     },
     "inputWidgets": {},
     "nuid": "ac6e8d73-4add-485d-855c-75c677bcfb0d",
     "showTitle": false,
     "tableResultSettingsMap": {},
     "title": ""
    }
   },
   "outputs": [],
   "source": [
    "spark "
   ]
  },
  {
   "cell_type": "code",
   "execution_count": 0,
   "metadata": {
    "application/vnd.databricks.v1+cell": {
     "cellMetadata": {
      "byteLimit": 2048000,
      "rowLimit": 10000
     },
     "inputWidgets": {},
     "nuid": "e137c5b2-d548-47ee-8a37-0ee15a715e6e",
     "showTitle": false,
     "tableResultSettingsMap": {},
     "title": ""
    }
   },
   "outputs": [],
   "source": [
    "from pyspark.sql.functions import *\n",
    "from pyspark.sql.types import *"
   ]
  },
  {
   "cell_type": "code",
   "execution_count": 0,
   "metadata": {
    "application/vnd.databricks.v1+cell": {
     "cellMetadata": {
      "byteLimit": 2048000,
      "rowLimit": 10000
     },
     "inputWidgets": {},
     "nuid": "a2acfdb1-5cbd-4223-a567-71e7475befa6",
     "showTitle": false,
     "tableResultSettingsMap": {},
     "title": ""
    }
   },
   "outputs": [],
   "source": [
    "bronze_path = \"\tabfss://bronze@storagecrypto18.dfs.core.windows.net/\"\n",
    "silver_path = \"abfss://silver@storagecrypto18.dfs.core.windows.net/silver_crypto\"\n",
    "schema_path = \"abfss://schema@storagecrypto18.dfs.core.windows.net/\""
   ]
  },
  {
   "cell_type": "markdown",
   "metadata": {
    "application/vnd.databricks.v1+cell": {
     "cellMetadata": {},
     "inputWidgets": {},
     "nuid": "8f6aa237-7154-4c08-aa9b-791a52a7a1ca",
     "showTitle": false,
     "tableResultSettingsMap": {},
     "title": ""
    }
   },
   "source": [
    "**Using Autoloader**"
   ]
  },
  {
   "cell_type": "code",
   "execution_count": 0,
   "metadata": {
    "application/vnd.databricks.v1+cell": {
     "cellMetadata": {
      "byteLimit": 2048000,
      "rowLimit": 10000
     },
     "inputWidgets": {},
     "nuid": "c908d5b2-218c-41a2-aac7-726780836f74",
     "showTitle": false,
     "tableResultSettingsMap": {},
     "title": ""
    }
   },
   "outputs": [],
   "source": [
    "df = spark.readStream\\\n",
    "    .format('cloudFiles')\\\n",
    "    .option('cloudFiles.format', 'json')\\\n",
    "    .option('cloudFiles.schemaEvolutionMode', 'addNewColumns')\\\n",
    "    .option('cloudFiles.schemaLocation', schema_path)\\\n",
    "    .option('cloudFiles.schemaHints',\n",
    "            \"\"\"\n",
    "            roi STRUCT<times:DOUBLE, currency:STRING, percentage:DOUBLE>,\n",
    "            ath STRING,\n",
    "            ath_change_percentage STRING,\n",
    "            ath_date STRING,\n",
    "            atl STRING,\n",
    "            atl_change_percentage STRING,\n",
    "            atl_date STRING,\n",
    "            circulating_supply STRING,\n",
    "            current_price STRING,\n",
    "            high_24h STRING,\n",
    "            id STRING,\n",
    "            last_updated STRING,\n",
    "            low_24h STRING,\n",
    "            market_cap STRING,\n",
    "            market_cap_change_24h STRING,\n",
    "            market_cap_change_percentage_24h STRING,\n",
    "            market_cap_rank STRING,\n",
    "            max_supply STRING,\n",
    "            name STRING,\n",
    "            price_change_24h STRING,\n",
    "            price_change_percentage_24h STRING,\n",
    "            symbol STRING,\n",
    "            total_supply STRING,\n",
    "            total_volume STRING\n",
    "            \"\"\")\\\n",
    "    .load(bronze_path.strip())\\\n",
    "    .withColumn('ingested_time', current_timestamp())\n",
    "\n"
   ]
  },
  {
   "cell_type": "code",
   "execution_count": 0,
   "metadata": {
    "application/vnd.databricks.v1+cell": {
     "cellMetadata": {
      "byteLimit": 2048000,
      "rowLimit": 10000
     },
     "inputWidgets": {},
     "nuid": "7453850d-4202-4325-98db-de0af89dbf8e",
     "showTitle": false,
     "tableResultSettingsMap": {},
     "title": ""
    }
   },
   "outputs": [],
   "source": [
    "df.printSchema()"
   ]
  },
  {
   "cell_type": "markdown",
   "metadata": {
    "application/vnd.databricks.v1+cell": {
     "cellMetadata": {},
     "inputWidgets": {},
     "nuid": "5190059c-5060-407c-bd53-b53ed7b71439",
     "showTitle": false,
     "tableResultSettingsMap": {},
     "title": ""
    }
   },
   "source": [
    "**Transforming our data using Pyspark**"
   ]
  },
  {
   "cell_type": "code",
   "execution_count": 0,
   "metadata": {
    "application/vnd.databricks.v1+cell": {
     "cellMetadata": {
      "byteLimit": 2048000,
      "rowLimit": 10000
     },
     "inputWidgets": {},
     "nuid": "82291a3b-8805-4027-a439-9cab40bc3f8c",
     "showTitle": false,
     "tableResultSettingsMap": {},
     "title": ""
    }
   },
   "outputs": [],
   "source": [
    "df_parsed = df\\\n",
    "    .withColumn('roi_time', col('roi.times'))\\\n",
    "        .withColumn('roi_currency', col('roi.currency'))\\\n",
    "            .withColumn('roi_percentage', col('roi.percentage'))\\\n",
    "                .drop('roi')"
   ]
  },
  {
   "cell_type": "code",
   "execution_count": 0,
   "metadata": {
    "application/vnd.databricks.v1+cell": {
     "cellMetadata": {
      "byteLimit": 2048000,
      "rowLimit": 10000
     },
     "inputWidgets": {},
     "nuid": "d3e35d2e-1384-4eae-8715-f24e75b56955",
     "showTitle": false,
     "tableResultSettingsMap": {},
     "title": ""
    }
   },
   "outputs": [],
   "source": [
    "df_parsed.printSchema()"
   ]
  },
  {
   "cell_type": "code",
   "execution_count": 0,
   "metadata": {
    "application/vnd.databricks.v1+cell": {
     "cellMetadata": {
      "byteLimit": 2048000,
      "rowLimit": 10000
     },
     "inputWidgets": {},
     "nuid": "5899513d-f3c8-4a1e-8f7f-572b7dc692f8",
     "showTitle": false,
     "tableResultSettingsMap": {},
     "title": ""
    }
   },
   "outputs": [],
   "source": [
    "df_transformed = df_parsed \\\n",
    "    .withColumn(\"last_updated_clean\", \n",
    "                regexp_replace(col(\"last_updated\"), \"(Z|\\\\+00:00)$\", \"\")) \\\n",
    "    .withColumn(\"last_updated_ts\", \n",
    "                when(col(\"last_updated_clean\").isNotNull(), \n",
    "                     to_timestamp(col(\"last_updated_clean\"), \"yyyy-MM-dd'T'HH:mm:ss.SSS\")) \\\n",
    "                .otherwise(current_timestamp())) \\\n",
    "    .withColumn(\"data_partition\", \n",
    "                to_date(col(\"last_updated_ts\"))) \\\n",
    "    .drop(\"last_updated\", \"last_updated_clean\")          "
   ]
  },
  {
   "cell_type": "code",
   "execution_count": 0,
   "metadata": {
    "application/vnd.databricks.v1+cell": {
     "cellMetadata": {
      "byteLimit": 2048000,
      "rowLimit": 10000
     },
     "inputWidgets": {},
     "nuid": "fbbc85c6-e91d-42c6-89d9-e27946478bdf",
     "showTitle": false,
     "tableResultSettingsMap": {},
     "title": ""
    }
   },
   "outputs": [],
   "source": [
    "df_metrics = df_transformed \\\n",
    "    .withColumn(\"market_cap_double\", col(\"market_cap\").cast(\"double\")) \\\n",
    "    .withColumn(\"total_volume_double\", col(\"total_volume\").cast(\"double\")) \\\n",
    "    .withColumn(\"market_cap_billions\", \n",
    "        when(col(\"market_cap_double\").isNotNull(), col(\"market_cap_double\") / 1_000_000_000.0)\n",
    "        .otherwise(0.0)\n",
    "    ) \\\n",
    "    .withColumn(\"volume_to_market_cap_ratio\", \n",
    "        when(\n",
    "            (col(\"total_volume_double\").isNotNull()) & \n",
    "            (col(\"market_cap_double\").isNotNull()) & \n",
    "            (col(\"market_cap_double\") > 0),\n",
    "            col(\"total_volume_double\") / col(\"market_cap_double\")\n",
    "        ).otherwise(0.0)\n",
    "    )\n"
   ]
  },
  {
   "cell_type": "code",
   "execution_count": 0,
   "metadata": {
    "application/vnd.databricks.v1+cell": {
     "cellMetadata": {
      "byteLimit": 2048000,
      "rowLimit": 10000
     },
     "inputWidgets": {},
     "nuid": "299b8121-39f9-4f16-8c50-3ebb10460e3d",
     "showTitle": false,
     "tableResultSettingsMap": {},
     "title": ""
    }
   },
   "outputs": [],
   "source": [
    "df_metrics.printSchema()"
   ]
  },
  {
   "cell_type": "code",
   "execution_count": 0,
   "metadata": {
    "application/vnd.databricks.v1+cell": {
     "cellMetadata": {
      "byteLimit": 2048000,
      "rowLimit": 10000
     },
     "inputWidgets": {},
     "nuid": "1bba1481-face-4cc5-ac19-85c703186bba",
     "showTitle": false,
     "tableResultSettingsMap": {},
     "title": ""
    }
   },
   "outputs": [],
   "source": [
    "df_final = df_metrics\\\n",
    "    .filter(\n",
    "        col(\"symbol\").isNotNull()&\n",
    "        col(\"last_updated_ts\").isNotNull()&\n",
    "        col(\"data_partition\").isNotNull()&\n",
    "        col(\"market_cap_billions\").isNotNull()&\n",
    "        col('id').isNotNull()\n",
    "    )\\\n",
    "        .drop('id', 'last_updated_ts')"
   ]
  },
  {
   "cell_type": "code",
   "execution_count": 0,
   "metadata": {
    "application/vnd.databricks.v1+cell": {
     "cellMetadata": {
      "byteLimit": 2048000,
      "rowLimit": 10000
     },
     "inputWidgets": {},
     "nuid": "febc7238-f6b5-456a-bfb8-be65f2e0edab",
     "showTitle": false,
     "tableResultSettingsMap": {},
     "title": ""
    }
   },
   "outputs": [],
   "source": [
    "df_final.printSchema()"
   ]
  },
  {
   "cell_type": "code",
   "execution_count": 0,
   "metadata": {
    "application/vnd.databricks.v1+cell": {
     "cellMetadata": {
      "byteLimit": 2048000,
      "implicitDf": true,
      "rowLimit": 10000
     },
     "inputWidgets": {},
     "nuid": "8f4ca719-f86d-4a58-91e3-7bb38c28a3c8",
     "showTitle": false,
     "tableResultSettingsMap": {},
     "title": ""
    }
   },
   "outputs": [],
   "source": [
    "%sql\n",
    "show EXTERNAL LOCATIONS;"
   ]
  },
  {
   "cell_type": "markdown",
   "metadata": {
    "application/vnd.databricks.v1+cell": {
     "cellMetadata": {},
     "inputWidgets": {},
     "nuid": "a5c6f36c-ca82-4cfd-83bf-68f11a8503b4",
     "showTitle": false,
     "tableResultSettingsMap": {},
     "title": ""
    }
   },
   "source": [
    "**Writing to our silver layer**"
   ]
  },
  {
   "cell_type": "code",
   "execution_count": 0,
   "metadata": {
    "application/vnd.databricks.v1+cell": {
     "cellMetadata": {
      "byteLimit": 2048000,
      "rowLimit": 10000
     },
     "inputWidgets": {},
     "nuid": "ef2451ff-eb68-4d11-91a1-0ea93167596b",
     "showTitle": false,
     "tableResultSettingsMap": {},
     "title": ""
    }
   },
   "outputs": [],
   "source": [
    "query = df_final.writeStream \\\n",
    "    .format(\"delta\")\\\n",
    "        .outputMode(\"append\")\\\n",
    "            .option(\"checkpointLocation\", \"abfss://silver@storagecrypto18.dfs.core.windows.net/_checkpoints/\n",
    "            crypto_market\")\\\n",
    "                .trigger(once=True)\\\n",
    "                .start(silver_path)"
   ]
  },
  {
   "cell_type": "code",
   "execution_count": 0,
   "metadata": {
    "application/vnd.databricks.v1+cell": {
     "cellMetadata": {
      "byteLimit": 2048000,
      "rowLimit": 10000
     },
     "inputWidgets": {},
     "nuid": "ff9a2e67-32e3-4e32-b04a-751833522503",
     "showTitle": false,
     "tableResultSettingsMap": {},
     "title": ""
    }
   },
   "outputs": [],
   "source": [
    "query = df_final.writeStream \\\n",
    "    .format(\"delta\")\\\n",
    "        .outputMode(\"append\")\\\n",
    "            .option(\"checkpointLocation\", \"abfss://silver@storagecrypto18.dfs.core.windows.net/_checkpoints/crypto_market\")\\\n",
    "                .trigger(once=True)\\\n",
    "                .start(silver_path)"
   ]
  },
  {
   "cell_type": "code",
   "execution_count": 0,
   "metadata": {
    "application/vnd.databricks.v1+cell": {
     "cellMetadata": {
      "byteLimit": 2048000,
      "rowLimit": 10000
     },
     "inputWidgets": {},
     "nuid": "5b3db999-3504-4a65-972f-5863aedb799b",
     "showTitle": false,
     "tableResultSettingsMap": {},
     "title": ""
    }
   },
   "outputs": [],
   "source": [
    "query.stop"
   ]
  },
  {
   "cell_type": "code",
   "execution_count": 0,
   "metadata": {
    "application/vnd.databricks.v1+cell": {
     "cellMetadata": {
      "byteLimit": 2048000,
      "rowLimit": 10000
     },
     "inputWidgets": {},
     "nuid": "db2c4274-1e4a-41e5-a664-c4997aa41169",
     "showTitle": false,
     "tableResultSettingsMap": {},
     "title": ""
    }
   },
   "outputs": [],
   "source": [
    "query.lastProgress"
   ]
  }
 ],
 "metadata": {
  "application/vnd.databricks.v1+notebook": {
   "computePreferences": null,
   "dashboards": [],
   "environmentMetadata": {
    "base_environment": "",
    "environment_version": "2"
   },
   "inputWidgetPreferences": null,
   "language": "python",
   "notebookMetadata": {
    "mostRecentlyExecutedCommandWithImplicitDF": {
     "commandId": 4600987245149963,
     "dataframes": [
      "_sqldf"
     ]
    },
    "pythonIndentUnit": 4
   },
   "notebookName": "silver_layer",
   "widgets": {}
  },
  "language_info": {
   "name": "python"
  }
 },
 "nbformat": 4,
 "nbformat_minor": 0
}
