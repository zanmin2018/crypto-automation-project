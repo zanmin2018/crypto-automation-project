{
 "cells": [
  {
   "cell_type": "markdown",
   "metadata": {
    "application/vnd.databricks.v1+cell": {
     "cellMetadata": {},
     "inputWidgets": {},
     "nuid": "61034ccf-7681-4b96-9102-2c0e5efd378d",
     "showTitle": false,
     "tableResultSettingsMap": {},
     "title": ""
    }
   },
   "source": [
    "**Creating CATALOG, SCHEMA and TABLE**"
   ]
  },
  {
   "cell_type": "code",
   "execution_count": 0,
   "metadata": {
    "application/vnd.databricks.v1+cell": {
     "cellMetadata": {
      "byteLimit": 2048000,
      "implicitDf": true,
      "rowLimit": 10000
     },
     "inputWidgets": {},
     "nuid": "825ebfe2-ddbc-4a3f-8f36-846428388e31",
     "showTitle": false,
     "tableResultSettingsMap": {},
     "title": ""
    }
   },
   "outputs": [],
   "source": [
    "%sql\n",
    "CREATE CATALOG IF NOT EXISTS ctl_crypto;"
   ]
  },
  {
   "cell_type": "code",
   "execution_count": 0,
   "metadata": {
    "application/vnd.databricks.v1+cell": {
     "cellMetadata": {
      "byteLimit": 2048000,
      "implicitDf": true,
      "rowLimit": 10000
     },
     "inputWidgets": {},
     "nuid": "f7520b6c-ceaf-450a-8d9c-a8abaf9f7243",
     "showTitle": false,
     "tableResultSettingsMap": {},
     "title": ""
    }
   },
   "outputs": [],
   "source": [
    "%sql\n",
    "CREATE SCHEMA IF NOT EXISTS ctl_crypto.staging_schema;"
   ]
  },
  {
   "cell_type": "code",
   "execution_count": 0,
   "metadata": {
    "application/vnd.databricks.v1+cell": {
     "cellMetadata": {
      "byteLimit": 2048000,
      "implicitDf": true,
      "rowLimit": 10000
     },
     "inputWidgets": {},
     "nuid": "71c71a47-049f-4b9b-9894-af7d8baa51c0",
     "showTitle": false,
     "tableResultSettingsMap": {},
     "title": ""
    }
   },
   "outputs": [],
   "source": [
    "%sql\n",
    "CREATE TABLE IF NOT EXISTS ctl_crypto.staging_schema.raw_silveR\n",
    "USING DELTA\n",
    "LOCATION \"abfss://silver@storagecrypto18.dfs.core.windows.net/silver_crypto\""
   ]
  },
  {
   "cell_type": "code",
   "execution_count": 0,
   "metadata": {
    "application/vnd.databricks.v1+cell": {
     "cellMetadata": {
      "byteLimit": 2048000,
      "implicitDf": true,
      "rowLimit": 10000
     },
     "inputWidgets": {},
     "nuid": "44551634-6626-429c-afff-d2980e4b0098",
     "showTitle": false,
     "tableResultSettingsMap": {},
     "title": ""
    }
   },
   "outputs": [],
   "source": [
    "%sql\n",
    "SELECT * FROM ctl_crypto.staging_schema.raw_silver\n",
    "LIMIT 5;"
   ]
  },
  {
   "cell_type": "markdown",
   "metadata": {
    "application/vnd.databricks.v1+cell": {
     "cellMetadata": {},
     "inputWidgets": {},
     "nuid": "b7600d8a-b9c8-4752-82dd-80c94c8a0a30",
     "showTitle": false,
     "tableResultSettingsMap": {},
     "title": ""
    }
   },
   "source": [
    "**NORMALIZING THE GENERAL TABLE\n",
    "**By extracting the fact and dimension tables**"
   ]
  },
  {
   "cell_type": "code",
   "execution_count": 0,
   "metadata": {
    "application/vnd.databricks.v1+cell": {
     "cellMetadata": {
      "byteLimit": 2048000,
      "implicitDf": true,
      "rowLimit": 10000
     },
     "inputWidgets": {},
     "nuid": "e212e1f8-895a-48fb-9e5d-a622c5298a24",
     "showTitle": false,
     "tableResultSettingsMap": {},
     "title": ""
    }
   },
   "outputs": [],
   "source": [
    "%sql\n",
    "CREATE SCHEMA IF NOT EXISTS ctl_crypto.gold_schema;"
   ]
  },
  {
   "cell_type": "code",
   "execution_count": 0,
   "metadata": {
    "application/vnd.databricks.v1+cell": {
     "cellMetadata": {
      "byteLimit": 2048000,
      "implicitDf": true,
      "rowLimit": 10000
     },
     "inputWidgets": {},
     "nuid": "b9dba90f-2b71-44d3-aaa3-4057236963bb",
     "showTitle": false,
     "tableResultSettingsMap": {},
     "title": ""
    }
   },
   "outputs": [],
   "source": [
    "%sql\n",
    "DROP TABLE IF EXISTS ctl_crypto.gold_schema.dim_roi;"
   ]
  },
  {
   "cell_type": "code",
   "execution_count": 0,
   "metadata": {
    "application/vnd.databricks.v1+cell": {
     "cellMetadata": {
      "byteLimit": 2048000,
      "implicitDf": true,
      "rowLimit": 10000
     },
     "inputWidgets": {},
     "nuid": "ddcff4e9-21a2-4638-919d-d6832cbcaf84",
     "showTitle": false,
     "tableResultSettingsMap": {},
     "title": ""
    }
   },
   "outputs": [],
   "source": [
    "%sql\n",
    "CREATE TABLE IF NOT EXISTS ctl_crypto.gold_schema.dim_roi(\n",
    "  roi_id BIGINT GENERATED ALWAYS AS IDENTITY PRIMARY KEY,\n",
    "  id STRING,\n",
    "  roi_time DOUBLE,\n",
    "  roi_currency STRING,\n",
    "  roi_percentage DOUBLE,\n",
    "  last_updated_ts TIMESTAMP \n",
    ")\n",
    "USING DELTA\n",
    "LOCATION \"abfss://gold@storagecrypto18.dfs.core.windows.net/dim_roi_new\";"
   ]
  },
  {
   "cell_type": "code",
   "execution_count": 0,
   "metadata": {
    "application/vnd.databricks.v1+cell": {
     "cellMetadata": {
      "byteLimit": 2048000,
      "implicitDf": true,
      "rowLimit": 10000
     },
     "inputWidgets": {},
     "nuid": "bb9b49bd-196e-4bdd-a53c-8c9f5a5190d6",
     "showTitle": false,
     "tableResultSettingsMap": {},
     "title": ""
    }
   },
   "outputs": [],
   "source": [
    "%sql CREATE TABLE IF NOT EXISTS ctl_crypto.gold_schema.dim_crypto(\n",
    "dim_crypto_id BIGINT GENERATED ALWAYS AS IDENTITY PRIMARY KEY,\n",
    "id STRING,\n",
    "name STRING,\n",
    "symbol STRING,\n",
    "ath DOUBLE,\n",
    "ath_change_percentage DOUBLE,\n",
    "market_cap_billion DOUBLE,\n",
    "volume_to_market_cap_ratio DOUBLE,\n",
    "last_updated_is TIMESTAMP\n",
    ")\n",
    "USING DELTA\n",
    "LOCATION \"abfss://gold@storagecrypto18.dfs.core.windows.net/dim_crypto\";"
   ]
  },
  {
   "cell_type": "code",
   "execution_count": 0,
   "metadata": {
    "application/vnd.databricks.v1+cell": {
     "cellMetadata": {
      "byteLimit": 2048000,
      "implicitDf": true,
      "rowLimit": 10000
     },
     "inputWidgets": {},
     "nuid": "b7da3472-ef5f-4f79-8a88-a7c0955e03ed",
     "showTitle": false,
     "tableResultSettingsMap": {},
     "title": ""
    }
   },
   "outputs": [],
   "source": [
    "%sql\n",
    "CREATE TABLE IF NOT EXISTS ctl_crypto.gold_schema.fact_crypto(\n",
    "  id STRING PRIMARY KEY,\n",
    "  dim_crypto_id BIGINT,\n",
    "  dim_roi_id BIGINT,\n",
    "  market_cap_rank BIGINT,\n",
    "  max_supply DOUBLE,\n",
    "  total_supply DOUBLE,\n",
    "  circulating_supply DOUBLE,\n",
    "  total_volume DOUBLE,\n",
    "  market_cap DOUBLE,\n",
    "  market_cap_change_24h DOUBLE,\n",
    "  market_cap_change_percentage_24h DOUBLE,\n",
    "  price_change_24h DOUBLE,\n",
    "  price_change_percentage_24h DOUBLE,\n",
    "  fully_diluted_valuation DOUBLE,\n",
    "  high_24h DOUBLE,\n",
    "  low_24h DOUBLE,\n",
    "  current_price DOUBLE,\n",
    "  data_partition DATE,\n",
    "  last_updated_ts TIMESTAMP,\n",
    "  FOREIGN KEY(dim_crypto_id) REFERENCES ctl_crypto.gold_schema.dim_crypto\n",
    "  (dim_crypto_id),\n",
    "  FOREIGN KEY(dim_roi_id) REFERENCES ctl_crypto.gold_schema.dim_roi(roi_id)\n",
    ")\n",
    "USING DELTA\n",
    "LOCATION \"abfss://gold@storagecrypto18.dfs.core.windows.net/fact_crypto\";"
   ]
  },
  {
   "cell_type": "code",
   "execution_count": 0,
   "metadata": {
    "application/vnd.databricks.v1+cell": {
     "cellMetadata": {
      "byteLimit": 2048000,
      "implicitDf": true,
      "rowLimit": 10000
     },
     "inputWidgets": {},
     "nuid": "571232af-dd02-4a5e-ab79-a59869a68265",
     "showTitle": false,
     "tableResultSettingsMap": {},
     "title": ""
    }
   },
   "outputs": [],
   "source": [
    "%sql\n",
    "MERGE INTO ctl_crypto.gold_schema.dim_roi AS target\n",
    "USING (\n",
    "    SELECT\n",
    "        symbol AS id,\n",
    "        roi_time,\n",
    "        roi_currency,\n",
    "        roi_percentage,\n",
    "        ingested_time AS last_updated_ts\n",
    "    FROM (\n",
    "        SELECT\n",
    "            symbol,\n",
    "            roi_time,\n",
    "            roi_currency,\n",
    "            roi_percentage,\n",
    "            ingested_time,\n",
    "            ROW_NUMBER() OVER (PARTITION BY symbol ORDER BY ingested_time DESC) AS rn\n",
    "        FROM ctl_crypto.staging_schema.raw_silver\n",
    "    ) AS subquery\n",
    "    WHERE rn = 1\n",
    ") AS updated_rn\n",
    "ON target.id = updated_rn.id\n",
    "WHEN MATCHED THEN\n",
    "UPDATE SET\n",
    "    target.roi_time = updated_rn.roi_time,\n",
    "    target.roi_currency = updated_rn.roi_currency,\n",
    "    target.roi_percentage = updated_rn.roi_percentage,\n",
    "    target.last_updated_ts = updated_rn.last_updated_ts\n",
    "WHEN NOT MATCHED THEN\n",
    "INSERT (\n",
    "    id,\n",
    "    roi_time,\n",
    "    roi_currency,\n",
    "    roi_percentage,\n",
    "    last_updated_ts\n",
    ")\n",
    "VALUES (\n",
    "    updated_rn.id,\n",
    "    updated_rn.roi_time,\n",
    "    updated_rn.roi_currency,\n",
    "    updated_rn.roi_percentage,\n",
    "    updated_rn.last_updated_ts\n",
    ");"
   ]
  },
  {
   "cell_type": "code",
   "execution_count": 0,
   "metadata": {
    "application/vnd.databricks.v1+cell": {
     "cellMetadata": {
      "byteLimit": 2048000,
      "implicitDf": true,
      "rowLimit": 10000
     },
     "inputWidgets": {},
     "nuid": "5c08b729-f102-43d5-bb0f-78e94c33712c",
     "showTitle": false,
     "tableResultSettingsMap": {},
     "title": ""
    }
   },
   "outputs": [],
   "source": [
    "%sql\n",
    "MERGE INTO ctl_crypto.gold_schema.fact_crypto AS target\n",
    "USING (\n",
    "    SELECT\n",
    "        symbol,\n",
    "        market_cap_rank,\n",
    "        CAST(max_supply AS DOUBLE) AS max_supply,\n",
    "        CAST(total_supply AS DOUBLE) AS total_supply,\n",
    "        CAST(circulating_supply AS DOUBLE) AS circulating_supply,\n",
    "        CAST(total_volume AS DOUBLE) AS total_volume,\n",
    "        CAST(market_cap AS DOUBLE) AS market_cap,\n",
    "        CAST(market_cap_change_24h AS DOUBLE) AS market_cap_change_24h,\n",
    "        CAST(market_cap_change_percentage_24h AS DOUBLE) AS market_cap_change_percentage_24h,\n",
    "        CAST(price_change_24h AS DOUBLE) AS price_change_24h,\n",
    "        CAST(price_change_percentage_24h AS DOUBLE) AS price_change_percentage_24h,\n",
    "        CAST(fully_diluted_valuation AS DOUBLE) AS fully_diluted_valuation,\n",
    "        CAST(high_24h AS DOUBLE) AS high_24h,\n",
    "        CAST(low_24h AS DOUBLE) AS low_24h,\n",
    "        CAST(current_price AS DOUBLE) AS current_price,\n",
    "        data_partition,\n",
    "        ingested_time AS last_updated_ts,\n",
    "        ROW_NUMBER() OVER (PARTITION BY symbol ORDER BY ingested_time DESC) AS rn\n",
    "    FROM ctl_crypto.staging_schema.raw_silver\n",
    ") AS updated_rn\n",
    "ON target.id = updated_rn.symbol AND updated_rn.rn = 1\n",
    "WHEN MATCHED THEN\n",
    "UPDATE SET\n",
    "    target.market_cap_rank = updated_rn.market_cap_rank,\n",
    "    target.max_supply = updated_rn.max_supply,\n",
    "    target.total_supply = updated_rn.total_supply,\n",
    "    target.circulating_supply = updated_rn.circulating_supply,\n",
    "    target.total_volume = updated_rn.total_volume,\n",
    "    target.market_cap = updated_rn.market_cap,\n",
    "    target.market_cap_change_24h = updated_rn.market_cap_change_24h,\n",
    "    target.market_cap_change_percentage_24h = updated_rn.market_cap_change_percentage_24h,\n",
    "    target.price_change_24h = updated_rn.price_change_24h,\n",
    "    target.price_change_percentage_24h = updated_rn.price_change_percentage_24h,\n",
    "    target.fully_diluted_valuation = updated_rn.fully_diluted_valuation,\n",
    "    target.high_24h = updated_rn.high_24h,\n",
    "    target.low_24h = updated_rn.low_24h,\n",
    "    target.current_price = updated_rn.current_price,\n",
    "    target.data_partition = updated_rn.data_partition,\n",
    "    target.last_updated_ts = updated_rn.last_updated_ts\n",
    "WHEN NOT MATCHED THEN\n",
    "INSERT (\n",
    "    id,\n",
    "    market_cap_rank,\n",
    "    max_supply,\n",
    "    total_supply,\n",
    "    circulating_supply,\n",
    "    total_volume,\n",
    "    market_cap,\n",
    "    market_cap_change_24h,\n",
    "    market_cap_change_percentage_24h,\n",
    "    price_change_24h,\n",
    "    price_change_percentage_24h,\n",
    "    fully_diluted_valuation,\n",
    "    high_24h,\n",
    "    low_24h,\n",
    "    current_price,\n",
    "    data_partition,\n",
    "    last_updated_ts\n",
    ")\n",
    "VALUES (\n",
    "    updated_rn.symbol,\n",
    "    updated_rn.market_cap_rank,\n",
    "    updated_rn.max_supply,\n",
    "    updated_rn.total_supply,\n",
    "    updated_rn.circulating_supply,\n",
    "    updated_rn.total_volume,\n",
    "    updated_rn.market_cap,\n",
    "    updated_rn.market_cap_change_24h,\n",
    "    updated_rn.market_cap_change_percentage_24h,\n",
    "    updated_rn.price_change_24h,\n",
    "    updated_rn.price_change_percentage_24h,\n",
    "    updated_rn.fully_diluted_valuation,\n",
    "    updated_rn.high_24h,\n",
    "    updated_rn.low_24h,\n",
    "    updated_rn.current_price,\n",
    "    updated_rn.data_partition,\n",
    "    updated_rn.last_updated_ts\n",
    ");"
   ]
  }
 ],
 "metadata": {
  "application/vnd.databricks.v1+notebook": {
   "computePreferences": null,
   "dashboards": [],
   "environmentMetadata": {
    "base_environment": "",
    "environment_version": "2"
   },
   "inputWidgetPreferences": null,
   "language": "python",
   "notebookMetadata": {
    "mostRecentlyExecutedCommandWithImplicitDF": {
     "commandId": 5027374961760173,
     "dataframes": [
      "_sqldf"
     ]
    },
    "pythonIndentUnit": 4
   },
   "notebookName": "gold_layer",
   "widgets": {}
  },
  "language_info": {
   "name": "python"
  }
 },
 "nbformat": 4,
 "nbformat_minor": 0
}
